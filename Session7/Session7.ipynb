{
 "cells": [
  {
   "cell_type": "markdown",
   "metadata": {},
   "source": [
    "## Write a closure that takes a function and then check whether the function passed has a docstring with more than 50 characters. 50 is stored as a free variable"
   ]
  },
  {
   "cell_type": "code",
   "execution_count": 1,
   "metadata": {},
   "outputs": [
    {
     "name": "stdout",
     "output_type": "stream",
     "text": [
      "Length of DocString is more than 50 characters\n",
      "Length of DocString is less than 50 characters\n"
     ]
    }
   ],
   "source": [
    "def fun1():\n",
    "    \"This function contains a DocString which is more than fifty characters\"\n",
    "\n",
    "def fun2():\n",
    "    \"Contains < 50 characters in DocString\"\n",
    "\n",
    "def strlen(fn):\n",
    "    \"\"\"strlen takes in a function as a argument. It contains a closure function which checks whether the function \n",
    "      in the argument has a DocString which is more than 50 characters in length\n",
    "      \n",
    "      Input : Function Name\n",
    "      Output : Prints whether the Function sent as argument contains a Docstring which has more than 50 characters\"\"\"\n",
    "    \n",
    "    length = 50                 # length is a free variable\n",
    "    \n",
    "    def nChars():\n",
    "        \"\"\"\n",
    "         This is a closure function which checks whether the input function contains a Docstring > 50 characters        \n",
    "        \"\"\"\n",
    "        \n",
    "        nonlocal length\n",
    "        if (len(fn.__doc__) > length):             #fn.__doc__ provides the docstring of the function which is passed\n",
    "            print(\"Length of DocString is more than 50 characters\")\n",
    "        else:\n",
    "            print(\"Length of DocString is less than 50 characters\")\n",
    "        \n",
    "        return fn()\n",
    "    return nChars \n",
    "\n",
    "\n",
    "# Checking whether the first function has a docstring > 50 characters\n",
    "fn = strlen(fun1)\n",
    "fn()\n",
    "\n",
    "# Checking whether the first function has a docstring > 50 characters\n",
    "fn = strlen(fun2)\n",
    "fn()"
   ]
  },
  {
   "cell_type": "markdown",
   "metadata": {},
   "source": [
    "## Write a closure that gives you the next Fibonacci number"
   ]
  },
  {
   "cell_type": "code",
   "execution_count": 14,
   "metadata": {},
   "outputs": [
    {
     "name": "stdout",
     "output_type": "stream",
     "text": [
      "Fibonacci Number 1 is 0\n",
      "0\n",
      "Fibonacci Number 2 is 1\n",
      "1\n",
      "Fibonacci Number 3 is 1\n",
      "1\n",
      "Fibonacci Number 4 is 2\n",
      "2\n",
      "Fibonacci Number 5 is 3\n",
      "3\n",
      "Fibonacci Number 6 is 5\n",
      "5\n"
     ]
    }
   ],
   "source": [
    "def fib():\n",
    "    \"\"\"\n",
    "    This function generates the next fibonacci number using closure    \n",
    "    \"\"\"\n",
    "    num1, num2, count = 0,1,0   # Free Variables\n",
    "    def nxtfib():\n",
    "        nonlocal count, num1, num2\n",
    "        if count == 0:\n",
    "            #When called first time, 0 is printed --> First Fibonacci Number\n",
    "            print(f'Fibonacci Number {count+1} is {num1}')\n",
    "            count +=1\n",
    "            return num1\n",
    "        elif count == 1:\n",
    "            #When called Second time, 1 is printed --> Second Fibonacci Number\n",
    "            print(f'Fibonacci Number {count+1} is {num2}')\n",
    "            count +=1\n",
    "            return num2\n",
    "        else:\n",
    "            #After the first two times, the Fibonacci numbers are computed by adding the previous two numbers \n",
    "            # and assignments made appropriately to calculate the next number\n",
    "            fibo = num1+num2\n",
    "            print(f'Fibonacci Number {count+1} is {fibo}')\n",
    "            count+=1\n",
    "            num1, num2 = num2, fibo\n",
    "            return fibo\n",
    "    return nxtfib\n",
    "\n",
    "fibonacci = fib()\n",
    "\n",
    "# Printing the fibonacci numbers\n",
    "print (fibonacci())\n",
    "print (fibonacci())\n",
    "print (fibonacci())\n",
    "print (fibonacci())\n",
    "print (fibonacci())\n",
    "print (fibonacci())"
   ]
  },
  {
   "cell_type": "markdown",
   "metadata": {},
   "source": [
    "## We wrote a closure that counts how many times a function was called. Write a new one that can keep a track of how many times add/mul/div functions were called, and update a global dictionary variable with the counts"
   ]
  },
  {
   "cell_type": "code",
   "execution_count": 15,
   "metadata": {},
   "outputs": [
    {
     "name": "stdout",
     "output_type": "stream",
     "text": [
      "Number of times the function were called are: {'add': 3, 'mul': 1, 'div': 2}\n"
     ]
    }
   ],
   "source": [
    "fnCounter={'add':0,'mul':0,'div':0}             # Global Dictionary to count the number of times the functions are called\n",
    "def counter(fn):\n",
    "    \"\"\"\n",
    "    This function takes in a function and updates a global dictionary keeping track of how many times the \n",
    "    functions add, mul or div is called with the help of closures\n",
    "    \"\"\"\n",
    "    \n",
    "    def inner(*args, **kwargs):\n",
    "        global fnCounter \n",
    "        #cnt += 1\n",
    "        fnCounter[fn.__name__]+=1\n",
    "        #print(f'{fn.__name__} has been called {cnt} times')\n",
    "        return fn(*args, **kwargs)\n",
    "    return inner\n",
    "\n",
    "def add(a, b):\n",
    "    \"\"\" Function to add two numbers\"\"\"\n",
    "    return a + b\n",
    "\n",
    "def mul(a, b):\n",
    "    \"\"\"Function to multiply 2 numbers\"\"\"\n",
    "    return a*b\n",
    "\n",
    "def div(a, b):\n",
    "    \"\"\"Function to divide two numbers where the denominator !=0 \"\"\"\n",
    "    assert b!=0, \"Denominater should not be equal to 0\"\n",
    "    return a/b\n",
    "\n",
    "c_add = counter(add)\n",
    "c_mul = counter(mul)\n",
    "c_div = counter(div)\n",
    "\n",
    "\n",
    "# Calling the functions and printing number of times they are called\n",
    "c_add(1,0)\n",
    "c_mul(1,0)\n",
    "c_add(100,12)\n",
    "c_div(1,1)\n",
    "c_div(1,2)\n",
    "c_add(0.2,5)\n",
    "print(\"Number of times the function were called are:\", fnCounter)"
   ]
  },
  {
   "cell_type": "markdown",
   "metadata": {},
   "source": [
    "## Modify above such that now we can pass in different dictionary variables to update different dictionaries "
   ]
  },
  {
   "cell_type": "code",
   "execution_count": 16,
   "metadata": {},
   "outputs": [
    {
     "name": "stdout",
     "output_type": "stream",
     "text": [
      "Number of times each operation occurs {'add': 1, 'mul': 1, 'div': 0} {'add': 1, 'mul': 0, 'div': 1} {'add': 0, 'mul': 0, 'div': 1}\n"
     ]
    }
   ],
   "source": [
    "## Three Global Dictionaries to count the number of times the functions are called\n",
    "fnCounter={'add':0,'mul':0,'div':0}\n",
    "fnCounter1={'add':0,'mul':0,'div':0}\n",
    "fnCounter2={'add':0,'mul':0,'div':0}\n",
    "\n",
    "def counter(fn, fnCountDict):\n",
    "    \"\"\"\n",
    "    A function which takes as its input the function and the dictionary name. The values in the dictionary are \n",
    "    updated by 1 when the function is called. Thus given a function and a dictionary as input the closure counts\n",
    "    the number of times the function is called and updates the corresponding element in the dictionary\n",
    "    \"\"\"\n",
    "    \n",
    "    def inner(*args, **kwargs):\n",
    "        nonlocal fnCountDict\n",
    "        fnCountDict[fn.__name__]+=1\n",
    "        #print(f'{fn.__name__} has been called {cnt} times')\n",
    "        return fn(*args, **kwargs)\n",
    "    return inner\n",
    "\n",
    "def add(a, b):\n",
    "    return a + b\n",
    "\n",
    "def mul(a, b):\n",
    "    return a*b\n",
    "\n",
    "def div(a, b):\n",
    "    assert b!=0, \"Denominater should not be equal to 0\"\n",
    "    return a/b\n",
    "\n",
    "c_add = counter(add, fnCounter)\n",
    "c_mul = counter(mul, fnCounter)\n",
    "c_div = counter(div, fnCounter)\n",
    "\n",
    "c_add1 = counter(add, fnCounter1)\n",
    "c_mul1 = counter(mul, fnCounter1)\n",
    "c_div1 = counter(div, fnCounter1)\n",
    "\n",
    "c_add2 = counter(add, fnCounter2)\n",
    "c_mul2 = counter(mul, fnCounter2)\n",
    "c_div2 = counter(div, fnCounter2)\n",
    "\n",
    "\n",
    "# Calling the functions and printing number of times they are called w.r.t each dictionary\n",
    "c_add(10,1), c_add1(20,20), c_mul(2,2),c_div2(2,3), c_div1(3,4)\n",
    "\n",
    "print(\"Number of times each operation occurs\", fnCounter, fnCounter1, fnCounter2)"
   ]
  },
  {
   "cell_type": "code",
   "execution_count": null,
   "metadata": {},
   "outputs": [],
   "source": []
  }
 ],
 "metadata": {
  "kernelspec": {
   "display_name": "Python 3",
   "language": "python",
   "name": "python3"
  },
  "language_info": {
   "codemirror_mode": {
    "name": "ipython",
    "version": 3
   },
   "file_extension": ".py",
   "mimetype": "text/x-python",
   "name": "python",
   "nbconvert_exporter": "python",
   "pygments_lexer": "ipython3",
   "version": "3.8.5"
  }
 },
 "nbformat": 4,
 "nbformat_minor": 4
}
