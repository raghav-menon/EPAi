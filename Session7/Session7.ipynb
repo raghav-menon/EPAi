{
 "cells": [
  {
   "cell_type": "markdown",
   "metadata": {},
   "source": [
    "## Write a closure that takes a function and then check whether the function passed has a docstring with more than 50 characters. 50 is stored as a free variable"
   ]
  },
  {
   "cell_type": "code",
   "execution_count": 113,
   "metadata": {},
   "outputs": [
    {
     "name": "stdout",
     "output_type": "stream",
     "text": [
      "Length of DocString is more than 50 characters\n",
      "Length of DocString is less than 50 characters\n"
     ]
    }
   ],
   "source": [
    "def fun1():\n",
    "    \"This function contains a DocString which is more than fifty characters\"\n",
    "\n",
    "def fun2():\n",
    "    \"Contains < 50 characters in DocString\"\n",
    "\n",
    "def strlen(fn):\n",
    "    length = 50\n",
    "    \n",
    "    def nChars():\n",
    "        nonlocal length\n",
    "        if (len(fn.__doc__) > length):\n",
    "            print(\"Length of DocString is more than 50 characters\")\n",
    "        else:\n",
    "            print(\"Length of DocString is less than 50 characters\")\n",
    "        \n",
    "        return fn()\n",
    "    return nChars \n",
    "\n",
    "fn = strlen(fun1)\n",
    "fn()\n",
    "\n",
    "fn = strlen(fun2)\n",
    "fn()"
   ]
  },
  {
   "cell_type": "markdown",
   "metadata": {},
   "source": [
    "## Write a closure that gives you the next Fibonacci number"
   ]
  },
  {
   "cell_type": "code",
   "execution_count": 116,
   "metadata": {},
   "outputs": [],
   "source": [
    "def fib():\n",
    "    num1, num2, count = 0,1,0\n",
    "    def nxtfib():\n",
    "        nonlocal count, num1, num2\n",
    "        if count == 0:\n",
    "            print(f'Fibonacci Number {count+1} is {num1}')\n",
    "            count +=1\n",
    "            return num1\n",
    "        elif count == 1:\n",
    "            print(f'Fibonacci Number {count+1} is {num2}')\n",
    "            count +=1\n",
    "            return num2\n",
    "        else:\n",
    "            fib = num1+num2\n",
    "            print(f'Fibonacci Number {count+1} is {fib}')\n",
    "            count+=1\n",
    "            num1, num2 = num2, fib\n",
    "            return fib\n",
    "    return nxtfib\n",
    "\n",
    "fibonacci = fib()"
   ]
  },
  {
   "cell_type": "code",
   "execution_count": 118,
   "metadata": {},
   "outputs": [
    {
     "name": "stdout",
     "output_type": "stream",
     "text": [
      "Fibonacci Number 2 is 1\n"
     ]
    },
    {
     "data": {
      "text/plain": [
       "1"
      ]
     },
     "execution_count": 118,
     "metadata": {},
     "output_type": "execute_result"
    }
   ],
   "source": [
    "fibonacci()"
   ]
  },
  {
   "cell_type": "markdown",
   "metadata": {},
   "source": [
    "## We wrote a closure that counts how many times a function was called. Write a new one that can keep a track of how many times add/mul/div functions were called, and update a global dictionary variable with the counts"
   ]
  },
  {
   "cell_type": "code",
   "execution_count": 109,
   "metadata": {},
   "outputs": [],
   "source": [
    "fnCounter={'add':0,'mul':0,'div':0}\n",
    "def counter(fn):\n",
    "    #cnt = 0\n",
    "    def inner(*args, **kwargs):\n",
    "        global fnCounter \n",
    "        #cnt += 1\n",
    "        fnCounter[fn.__name__]+=1\n",
    "        #print(f'{fn.__name__} has been called {cnt} times')\n",
    "        return fn(*args, **kwargs)\n",
    "    return inner\n",
    "\n",
    "def add(a, b):\n",
    "    return a + b\n",
    "\n",
    "def mul(a, b):\n",
    "    return a*b\n",
    "\n",
    "def div(a, b):\n",
    "    assert b!=0, \"Denominater should not be equal to 0\"\n",
    "    return a/b\n",
    "\n",
    "c_add = counter(add)\n",
    "c_mul = counter(mul)\n",
    "c_div = counter(div)"
   ]
  },
  {
   "cell_type": "code",
   "execution_count": 110,
   "metadata": {},
   "outputs": [
    {
     "name": "stdout",
     "output_type": "stream",
     "text": [
      "Number of times the function were called are: {'add': 3, 'mul': 1, 'div': 2}\n"
     ]
    }
   ],
   "source": [
    "c_add(1,0)\n",
    "c_mul(1,0)\n",
    "c_add(100,12)\n",
    "c_div(1,1)\n",
    "c_div(1,2)\n",
    "c_add(0.2,5)\n",
    "print(\"Number of times the function were called are:\", fnCounter)"
   ]
  },
  {
   "cell_type": "markdown",
   "metadata": {},
   "source": [
    "## Modify above such that now we can pass in different dictionary variables to update different dictionaries "
   ]
  },
  {
   "cell_type": "code",
   "execution_count": 111,
   "metadata": {},
   "outputs": [],
   "source": [
    "fnCounter={'add':0,'mul':0,'div':0}\n",
    "fnCounter1={'add':0,'mul':0,'div':0}\n",
    "fnCounter2={'add':0,'mul':0,'div':0}\n",
    "def counter(fn, fnCountDict):\n",
    "    \n",
    "    def inner(*args, **kwargs):\n",
    "        nonlocal fnCountDict\n",
    "        fnCountDict[fn.__name__]+=1\n",
    "        #print(f'{fn.__name__} has been called {cnt} times')\n",
    "        return fn(*args, **kwargs)\n",
    "    return inner\n",
    "\n",
    "def add(a, b):\n",
    "    return a + b\n",
    "\n",
    "def mul(a, b):\n",
    "    return a*b\n",
    "\n",
    "def div(a, b):\n",
    "    assert b!=0, \"Denominater should not be equal to 0\"\n",
    "    return a/b\n",
    "\n",
    "c_add = counter(add, fnCounter)\n",
    "c_mul = counter(mul, fnCounter)\n",
    "c_div = counter(div, fnCounter)\n",
    "\n",
    "c_add1 = counter(add, fnCounter1)\n",
    "c_mul1 = counter(mul, fnCounter1)\n",
    "c_div1 = counter(div, fnCounter1)\n",
    "\n",
    "c_add2 = counter(add, fnCounter2)\n",
    "c_mul2 = counter(mul, fnCounter2)\n",
    "c_div2 = counter(div, fnCounter2)"
   ]
  },
  {
   "cell_type": "code",
   "execution_count": 112,
   "metadata": {},
   "outputs": [
    {
     "name": "stdout",
     "output_type": "stream",
     "text": [
      "Number of times each operation occurs {'add': 1, 'mul': 1, 'div': 0} {'add': 1, 'mul': 0, 'div': 1} {'add': 0, 'mul': 0, 'div': 1}\n"
     ]
    }
   ],
   "source": [
    "c_add(10,1), c_add1(20,20), c_mul(2,2),c_div2(2,3), c_div1(3,4)\n",
    "\n",
    "print(\"Number of times each operation occurs\", fnCounter, fnCounter1, fnCounter2)"
   ]
  },
  {
   "cell_type": "code",
   "execution_count": null,
   "metadata": {},
   "outputs": [],
   "source": []
  }
 ],
 "metadata": {
  "kernelspec": {
   "display_name": "Python 3",
   "language": "python",
   "name": "python3"
  },
  "language_info": {
   "codemirror_mode": {
    "name": "ipython",
    "version": 3
   },
   "file_extension": ".py",
   "mimetype": "text/x-python",
   "name": "python",
   "nbconvert_exporter": "python",
   "pygments_lexer": "ipython3",
   "version": "3.8.5"
  }
 },
 "nbformat": 4,
 "nbformat_minor": 4
}
